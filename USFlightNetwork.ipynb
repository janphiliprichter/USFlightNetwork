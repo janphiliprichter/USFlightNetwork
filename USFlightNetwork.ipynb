{
  "nbformat": 4,
  "nbformat_minor": 0,
  "metadata": {
    "colab": {
      "provenance": []
    },
    "kernelspec": {
      "name": "python3",
      "display_name": "Python 3"
    },
    "language_info": {
      "name": "python"
    }
  },
  "cells": [
    {
      "cell_type": "markdown",
      "source": [
        "## Loading Dependencies"
      ],
      "metadata": {
        "id": "lmrK_LNMrg1N"
      }
    },
    {
      "cell_type": "code",
      "execution_count": 46,
      "metadata": {
        "colab": {
          "base_uri": "https://localhost:8080/"
        },
        "id": "dGom4QiqSIHe",
        "outputId": "6727b697-4b8f-4c12-88f2-6491e2c9ceae"
      },
      "outputs": [
        {
          "output_type": "stream",
          "name": "stdout",
          "text": [
            "Drive already mounted at /content/drive; to attempt to forcibly remount, call drive.mount(\"/content/drive\", force_remount=True).\n"
          ]
        }
      ],
      "source": [
        "import os\n",
        "import pandas as pd\n",
        "import numpy as np\n",
        "import networkx as nx\n",
        "import matplotlib.pyplot as plt\n",
        "import matplotlib.lines as mlines\n",
        "import seaborn as sns\n",
        "import datetime\n",
        "from sklearn.model_selection import train_test_split\n",
        "from sklearn.preprocessing import StandardScaler\n",
        "from sklearn.pipeline import Pipeline\n",
        "from sklearn.compose import ColumnTransformer\n",
        "from sklearn.ensemble import GradientBoostingClassifier\n",
        "from sklearn.linear_model import LogisticRegression\n",
        "from sklearn.metrics import confusion_matrix, precision_score, recall_score, f1_score, accuracy_score\n",
        "from google.colab import drive\n",
        "drive.mount(\"/content/drive\")\n",
        "os.chdir(\"/content/drive/MyDrive/NetworkScience\")"
      ]
    },
    {
      "cell_type": "markdown",
      "source": [
        "## Helper Functions"
      ],
      "metadata": {
        "id": "wPEcMh2CxUbu"
      }
    },
    {
      "cell_type": "code",
      "source": [
        "def load_dataset(path, routes=True):\n",
        "  \"\"\"\n",
        "  Creates dataframe with all routes from a .csv file\n",
        "  :param path: Str. Path to a .csv file containing the fligth data\n",
        "  :param routes: Bool. If true returns set of routes in the data\n",
        "  :return: Dataframe with all routes flown\n",
        "  \"\"\"\n",
        "\n",
        "  # Extracting year\n",
        "  year = int(path[-8:-4])\n",
        "\n",
        "  # Creating the dataframe\n",
        "  df = pd.read_csv(path)\n",
        "\n",
        "  # Create \"Route\" column\n",
        "  df[\"Route\"] = df[\"ORIGIN_CITY_NAME\"] + \";\" + df[\"DEST_CITY_NAME\"]\n",
        "\n",
        "  # Aggregation\n",
        "  df_agg = df.groupby(\"Route\", as_index=False).mean(numeric_only=True)\n",
        "\n",
        "  df_agg[[\"Origin\", \"Destination\"]] = df_agg[\"Route\"].str.split(\";\",\n",
        "                                                                n=1,\n",
        "                                                                expand=True)\n",
        "\n",
        "  # Creating year column\n",
        "  df_agg[\"Year\"] = year\n",
        "\n",
        "  # Renaming columns\n",
        "  df_agg = df_agg.rename(columns={\"ARR_DELAY\": \"Delay\",\n",
        "                                  \"DISTANCE\": \"Distance\"})\n",
        "\n",
        "  # Replacing NaNs\n",
        "  df_agg[\"Delay\"].fillna(df_agg[\"Delay\"].mean(),\n",
        "                         inplace=True)\n",
        "\n",
        "  # Selecting columns\n",
        "  df_agg = df_agg[[\"Route\",\n",
        "                   \"Origin\",\n",
        "                   \"Destination\",\n",
        "                   \"Delay\",\n",
        "                   \"Distance\",\n",
        "                   \"Year\"]]\n",
        "\n",
        "  if routes:\n",
        "    # Creating set of all routes in the dataframe\n",
        "    routes = set(df_agg[\"Route\"])\n",
        "\n",
        "    return df_agg, routes\n",
        "\n",
        "  return df_agg\n",
        "\n",
        "\n",
        "\n",
        "def create_digraph(df):\n",
        "  \"\"\"\n",
        "  Creates directed graph from a dataframe\n",
        "  :param df: Dataframe to create graph from\n",
        "  :return: nx DiGraph object\n",
        "  \"\"\"\n",
        "  G = nx.DiGraph()\n",
        "\n",
        "  for i in range(len(df)):\n",
        "    G.add_edge(df[\"Origin\"].iloc[i,], df[\"Destination\"].iloc[i,],\n",
        "               year=df[\"Year\"].iloc[i,],\n",
        "               delay=df[\"Delay\"].iloc[i,],\n",
        "               distance=df[\"Distance\"].iloc[i,])\n",
        "\n",
        "  return G\n",
        "\n",
        "\n",
        "\n",
        "def create_graph(df, excluded_routes=None):\n",
        "  \"\"\"\n",
        "  Creates undirected graph from a dataframe\n",
        "  :param df: Dataframe to create graph from\n",
        "  :param excluded_routes: Set of routes not to include in the graph\n",
        "  :return: nx Graph object\n",
        "  \"\"\"\n",
        "  G = nx.DiGraph()\n",
        "\n",
        "  if excluded_routes:\n",
        "    for i in range(len(df)):\n",
        "       if df[\"Route\"].iloc[i,] not in excluded_routes:\n",
        "\n",
        "        G.add_edge(df[\"Origin\"].iloc[i,], df[\"Destination\"].iloc[i,],\n",
        "                  year=df[\"Year\"].iloc[i,],\n",
        "                  delay=df[\"Delay\"].iloc[i,],\n",
        "                  distance=df[\"Distance\"].iloc[i,])\n",
        "\n",
        "  else:\n",
        "    for i in range(len(df)):\n",
        "\n",
        "      G.add_edge(df[\"Origin\"].iloc[i,], df[\"Destination\"].iloc[i,],\n",
        "                 year=df[\"Year\"].iloc[i,],\n",
        "                 delay=df[\"Delay\"].iloc[i,],\n",
        "                 distance=df[\"Distance\"].iloc[i,])\n",
        "\n",
        "  G = G.to_undirected()\n",
        "\n",
        "  return G\n",
        "\n",
        "\n",
        "\n",
        "def create_link_prediction_data(training_graph, testing_graph):\n",
        "  \"\"\"\n",
        "  Feature matrix and label vector for link prediction\n",
        "  :param training_graph: nx Graph object of the training graph\n",
        "  :param testing_graph: nx Graph object of the testing graph\n",
        "  :return: Feature matrix and label vector\n",
        "  \"\"\"\n",
        "\n",
        "  # List of all edges in the testing graph\n",
        "  edge_list = np.array([{u,v} for u,v in testing_graph.edges()])\n",
        "\n",
        "  # List of all tuples of nodes for which a new link has formed\n",
        "  positive_datapoints = [(u, v) for u, v in edge_list\n",
        "                         if training_graph.has_node(u)\n",
        "                         and training_graph.has_node(v)]\n",
        "\n",
        "  print(f\"Number of newly formed links: {len(positive_datapoints)}\")\n",
        "\n",
        "  # List of tuples where no link has formed\n",
        "  negative_datapoints = []\n",
        "  testing_nodes = list(testing_graph.nodes())\n",
        "  count = 0\n",
        "  while count < len(positive_datapoints):\n",
        "    u, v = np.random.choice(testing_nodes, size=2, replace=False)\n",
        "    if (not training_graph.has_edge(u, v) and training_graph.has_node(u)\n",
        "    and training_graph.has_node(v)):\n",
        "        negative_datapoints.append((u, v))\n",
        "        count += 1\n",
        "\n",
        "  # Creating the dataframe\n",
        "  df_link_prediction =  pd.DataFrame()\n",
        "  datapoints =  positive_datapoints + negative_datapoints\n",
        "\n",
        "  # Feature engineering\n",
        "  df_link_prediction[\"jaccard\"] = [j for _, _, j in nx.jaccard_coefficient(training_graph, datapoints)]\n",
        "  df_link_prediction[\"rai\"] = [j for _, _, j in nx.resource_allocation_index(training_graph, datapoints)]\n",
        "  df_link_prediction[\"aai\"] = [j for _, _, j in nx.adamic_adar_index(training_graph, datapoints)]\n",
        "  df_link_prediction[\"pref\"] = [j for _, _, j in nx.preferential_attachment(training_graph, datapoints)]\n",
        "  df_link_prediction[\"cnc\"] = [j for _, _, j in nx.common_neighbor_centrality(training_graph, datapoints)]\n",
        "  df_link_prediction[\"label\"] = [1 for _ in range(len(positive_datapoints))] + [0 for _ in range(len(negative_datapoints))]\n",
        "\n",
        "  # Feature matrix label vector\n",
        "  X = df_link_prediction[[\"jaccard\", \"rai\", \"aai\", \"pref\", \"cnc\"]]\n",
        "  y = df_link_prediction[\"label\"]\n",
        "\n",
        "  return X, y"
      ],
      "metadata": {
        "id": "iGBYFmnjxW5G"
      },
      "execution_count": 47,
      "outputs": []
    },
    {
      "cell_type": "markdown",
      "source": [
        "## Creating the Graphs"
      ],
      "metadata": {
        "id": "ZTTPYaJFrm8S"
      }
    },
    {
      "cell_type": "code",
      "source": [
        "df_2023, _ = load_dataset(\"/content/drive/MyDrive/NetworkScience/flight_data/flights_2023.csv\")\n",
        "\n",
        "G = create_graph(df_2023)\n",
        "G_directed = create_digraph(df_2023)"
      ],
      "metadata": {
        "id": "mrIWgd7YflUA"
      },
      "execution_count": 48,
      "outputs": []
    },
    {
      "cell_type": "code",
      "source": [
        "print(f\"Undirected Graph: {G}\\n\")\n",
        "print(f\"Directed Graph: {G_directed}\")"
      ],
      "metadata": {
        "colab": {
          "base_uri": "https://localhost:8080/"
        },
        "id": "QjgIZHbSr4JP",
        "outputId": "be10eb5e-3a7d-4b9d-e45d-fb4ab9d842c2"
      },
      "execution_count": 49,
      "outputs": [
        {
          "output_type": "stream",
          "name": "stdout",
          "text": [
            "Undirected Graph: Graph with 333 nodes and 2584 edges\n",
            "\n",
            "Directed Graph: DiGraph with 333 nodes and 5155 edges\n"
          ]
        }
      ]
    },
    {
      "cell_type": "markdown",
      "source": [
        "## Degree Distribution"
      ],
      "metadata": {
        "id": "mW8nei5SsDD0"
      }
    },
    {
      "cell_type": "markdown",
      "source": [
        "### Degree Analysis\n"
      ],
      "metadata": {
        "id": "Hxw72i60hNRc"
      }
    },
    {
      "cell_type": "markdown",
      "source": [
        "Degrees"
      ],
      "metadata": {
        "id": "AZjO3q4x0zbj"
      }
    },
    {
      "cell_type": "code",
      "source": [
        "degrees = dict(G.degree)\n",
        "# Average degree\n",
        "avg_degree = np.mean(list(degrees.values()))\n",
        "\n",
        "# Median degree\n",
        "median_degree = np.median(list(degrees.values()))\n",
        "\n",
        "# Max degree and nodes\n",
        "max_degree = max(degrees.values())\n",
        "max_nodes = [k for k, v in degrees.items() if v == max_degree]\n",
        "\n",
        "# Min degree and nodes\n",
        "min_degree = min(degrees.values())\n",
        "min_nodes = [k for k, v in degrees.items() if v == min_degree]\n",
        "\n",
        "# Standard deviation\n",
        "sd_degree = np.std(list(degrees.values()))\n",
        "\n",
        "print(f\"Average Degree: {avg_degree:.2f} \\n\"\n",
        "f\"Median Degree: {int(median_degree)} \\n\"\n",
        "f\"Maximum Degree: {max_degree} (City: {max_nodes[0]})\\n\"\n",
        "f\"Minimum Degree: {min_degree} (City: {min_nodes[0]}, etc.)\\n\"\n",
        "f\"Degree Standard Deviation: {sd_degree:.2f}\")"
      ],
      "metadata": {
        "colab": {
          "base_uri": "https://localhost:8080/"
        },
        "id": "m8UVvvXYuLH2",
        "outputId": "aabf457e-5aca-4125-d395-b2b2deee5fde"
      },
      "execution_count": 50,
      "outputs": [
        {
          "output_type": "stream",
          "name": "stdout",
          "text": [
            "Average Degree: 15.52 \n",
            "Median Degree: 5 \n",
            "Maximum Degree: 175 (City: Dallas/Fort Worth, TX)\n",
            "Minimum Degree: 1 (City: Aberdeen, SD, etc.)\n",
            "Degree Standard Deviation: 26.69\n"
          ]
        }
      ]
    },
    {
      "cell_type": "markdown",
      "source": [
        "### Top 5 degree nodes"
      ],
      "metadata": {
        "id": "4eeMVQYB9OaX"
      }
    },
    {
      "cell_type": "code",
      "source": [
        "degrees_sorted = sorted(dict(G.degree).items(),\n",
        "                        key=lambda x:x[1],\n",
        "                        reverse=True)\n",
        "\n",
        "for i in range (15):\n",
        "\n",
        "  print(f\"{degrees_sorted[i][0]}: {degrees_sorted[i][1]}\")"
      ],
      "metadata": {
        "colab": {
          "base_uri": "https://localhost:8080/"
        },
        "id": "K2VXwrdC8WKu",
        "outputId": "f5952500-19a3-4872-c291-88a841714cf3"
      },
      "execution_count": 51,
      "outputs": [
        {
          "output_type": "stream",
          "name": "stdout",
          "text": [
            "Dallas/Fort Worth, TX: 175\n",
            "Denver, CO: 154\n",
            "Chicago, IL: 150\n",
            "Atlanta, GA: 143\n",
            "Phoenix, AZ: 122\n",
            "Las Vegas, NV: 116\n",
            "Charlotte, NC: 115\n",
            "Washington, DC: 98\n",
            "Houston, TX: 97\n",
            "New York, NY: 96\n",
            "Minneapolis, MN: 95\n",
            "Los Angeles, CA: 87\n",
            "Detroit, MI: 86\n",
            "Newark, NJ: 81\n",
            "Orlando, FL: 79\n"
          ]
        }
      ]
    },
    {
      "cell_type": "markdown",
      "source": [
        "In-degrees"
      ],
      "metadata": {
        "id": "cURIz6mi01Jv"
      }
    },
    {
      "cell_type": "code",
      "source": [
        "in_degrees = dict(G_directed.in_degree)\n",
        "# Average degree\n",
        "avg_in_degree = np.mean(list(in_degrees.values()))\n",
        "\n",
        "# Max degree and nodes\n",
        "max_in_degree = max(in_degrees.values())\n",
        "max_in_nodes = [k for k, v in in_degrees.items() if v == max_in_degree]\n",
        "\n",
        "# Min degree and nodes\n",
        "min_in_degree = min(in_degrees.values())\n",
        "min_in_nodes = [k for k, v in in_degrees.items() if v == min_in_degree]\n",
        "\n",
        "# Standard deviation\n",
        "sd_in_degree = np.std(list(in_degrees.values()))\n",
        "\n",
        "print(f\"Average In-Degree: {avg_in_degree:.2f} \\n\"\n",
        "f\"Maximum In-Degree: {max_in_degree} (City: {max_in_nodes[0]})\\n\"\n",
        "f\"Minimum In-Degree: {min_in_degree} (City: {min_in_nodes[0]}, etc.)\\n\"\n",
        "f\"In-Degree Standard Deviation: {sd_in_degree:.2f}\")"
      ],
      "metadata": {
        "colab": {
          "base_uri": "https://localhost:8080/"
        },
        "id": "Cm6kcSMm04rS",
        "outputId": "d50670bc-55b0-4b0f-edcd-50a22974c249"
      },
      "execution_count": 52,
      "outputs": [
        {
          "output_type": "stream",
          "name": "stdout",
          "text": [
            "Average In-Degree: 15.48 \n",
            "Maximum In-Degree: 175 (City: Dallas/Fort Worth, TX)\n",
            "Minimum In-Degree: 1 (City: Aberdeen, SD, etc.)\n",
            "In-Degree Standard Deviation: 26.64\n"
          ]
        }
      ]
    },
    {
      "cell_type": "markdown",
      "source": [
        "Out-degrees"
      ],
      "metadata": {
        "id": "H0AJzX6B03Ft"
      }
    },
    {
      "cell_type": "code",
      "source": [
        "out_degrees = dict(G_directed.out_degree)\n",
        "# Average degree\n",
        "avg_out_degree = np.mean(list(out_degrees.values()))\n",
        "\n",
        "# Max degree and nodes\n",
        "max_out_degree = max(out_degrees.values())\n",
        "max_out_nodes = [k for k, v in out_degrees.items() if v == max_out_degree]\n",
        "\n",
        "# Min degree and nodes\n",
        "min_out_degree = min(out_degrees.values())\n",
        "min_out_nodes = [k for k, v in out_degrees.items() if v == min_out_degree]\n",
        "\n",
        "# Standard deviation\n",
        "sd_out_degree = np.std(list(out_degrees.values()))\n",
        "\n",
        "print(f\"Average Out-Degree: {avg_out_degree:.2f} \\n\"\n",
        "f\"Maximum Out-Degree: {max_out_degree} (City: {max_out_nodes[0]})\\n\"\n",
        "f\"Minimum Out-Degree: {min_out_degree} (City: {min_out_nodes[0]}, etc.)\\n\"\n",
        "f\"Out-Degree Standard Deviation: {sd_out_degree:.2f}\")"
      ],
      "metadata": {
        "colab": {
          "base_uri": "https://localhost:8080/"
        },
        "id": "IBLQ3ti7z2xs",
        "outputId": "16fe6bad-2965-4012-de92-49e9f41df93a"
      },
      "execution_count": 53,
      "outputs": [
        {
          "output_type": "stream",
          "name": "stdout",
          "text": [
            "Average Out-Degree: 15.48 \n",
            "Maximum Out-Degree: 175 (City: Dallas/Fort Worth, TX)\n",
            "Minimum Out-Degree: 1 (City: Aberdeen, SD, etc.)\n",
            "Out-Degree Standard Deviation: 26.63\n"
          ]
        }
      ]
    },
    {
      "cell_type": "markdown",
      "source": [
        "Weight-degrees"
      ],
      "metadata": {
        "id": "MeCBBASN9n6b"
      }
    },
    {
      "cell_type": "code",
      "source": [
        "weight_degrees = dict(G.degree(weight=\"delay\"))\n",
        "# Average degree\n",
        "avg_weight_degree = np.mean(list(weight_degrees.values()))\n",
        "\n",
        "# Max degree and nodes\n",
        "max_weight_degree = max(weight_degrees.values())\n",
        "max_weight_nodes = [k for k, v in weight_degrees.items() if v == max_weight_degree]\n",
        "\n",
        "# Min degree and nodes\n",
        "min_weight_degree = min(weight_degrees.values())\n",
        "min_weight_nodes = [k for k, v in weight_degrees.items() if v == min_weight_degree]\n",
        "\n",
        "# Standard deviation\n",
        "sd_weight_degree = np.std(list(weight_degrees.values()))\n",
        "\n",
        "print(f\"Average Weight-Degree: {avg_weight_degree:.2f} \\n\"\n",
        "f\"Maximum Weight-Degree: {max_weight_degree:.2f} (City: {max_weight_nodes[0]})\\n\"\n",
        "f\"Minimum Weight-Degree: {min_weight_degree:.2f} (City: {min_weight_nodes[0]}, etc.)\\n\"\n",
        "f\"Weight-Degree Standard Deviation: {sd_weight_degree:.2f}\")"
      ],
      "metadata": {
        "colab": {
          "base_uri": "https://localhost:8080/"
        },
        "id": "IIZxjMER3yBm",
        "outputId": "986d883a-f428-460c-a908-97ba01028088"
      },
      "execution_count": 54,
      "outputs": [
        {
          "output_type": "stream",
          "name": "stdout",
          "text": [
            "Average Weight-Degree: 178.31 \n",
            "Maximum Weight-Degree: 2340.24 (City: Dallas/Fort Worth, TX)\n",
            "Minimum Weight-Degree: -43.65 (City: Juneau, AK, etc.)\n",
            "Weight-Degree Standard Deviation: 368.44\n"
          ]
        }
      ]
    },
    {
      "cell_type": "code",
      "source": [
        "out_degrees = dict(G_directed.out_degree(weight=\"delay\"))\n",
        "# Average degree\n",
        "avg_out_degree = np.mean(list(out_degrees.values()))\n",
        "\n",
        "# Max degree and nodes\n",
        "max_out_degree = max(out_degrees.values())\n",
        "max_out_nodes = [k for k, v in out_degrees.items() if v == max_out_degree]\n",
        "\n",
        "# Min degree and nodes\n",
        "min_out_degree = min(out_degrees.values())\n",
        "min_out_nodes = [k for k, v in out_degrees.items() if v == min_out_degree]\n",
        "\n",
        "# Standard deviation\n",
        "sd_out_degree = np.std(list(out_degrees.values()))\n",
        "\n",
        "print(f\"Average Out-Degree: {avg_out_degree:.2f} \\n\"\n",
        "f\"Maximum Out-Degree: {max_out_degree} (City: {max_out_nodes[0]})\\n\"\n",
        "f\"Minimum Out-Degree: {min_out_degree} (City: {min_out_nodes[0]}, etc.)\\n\"\n",
        "f\"Out-Degree Standard Deviation: {sd_out_degree:.2f}\")"
      ],
      "metadata": {
        "colab": {
          "base_uri": "https://localhost:8080/"
        },
        "id": "MHyIu9GOHY_o",
        "outputId": "ef7f4239-5e97-4663-9ce7-6dc9b60b5ea3"
      },
      "execution_count": 55,
      "outputs": [
        {
          "output_type": "stream",
          "name": "stdout",
          "text": [
            "Average Out-Degree: 161.69 \n",
            "Maximum Out-Degree: 2669.1981585928515 (City: Denver, CO)\n",
            "Minimum Out-Degree: -37.10814417004381 (City: Allentown/Bethlehem/Easton, PA, etc.)\n",
            "Out-Degree Standard Deviation: 329.70\n"
          ]
        }
      ]
    },
    {
      "cell_type": "code",
      "source": [
        "in_degrees = dict(G_directed.in_degree(weight=\"delay\"))\n",
        "# Average degree\n",
        "avg_in_degree = np.mean(list(in_degrees.values()))\n",
        "\n",
        "# Max degree and nodes\n",
        "max_in_degree = max(in_degrees.values())\n",
        "max_in_nodes = [k for k, v in in_degrees.items() if v == max_in_degree]\n",
        "\n",
        "# Min degree and nodes\n",
        "min_in_degree = min(in_degrees.values())\n",
        "min_in_nodes = [k for k, v in in_degrees.items() if v == min_in_degree]\n",
        "\n",
        "# Standard deviation\n",
        "sd_in_degree = np.std(list(in_degrees.values()))\n",
        "\n",
        "print(f\"Average In-Degree: {avg_in_degree:.2f} \\n\"\n",
        "f\"Maximum In-Degree: {max_in_degree} (City: {max_in_nodes[0]})\\n\"\n",
        "f\"Minimum In-Degree: {min_in_degree} (City: {min_in_nodes[0]}, etc.)\\n\"\n",
        "f\"In-Degree Standard Deviation: {sd_in_degree:.2f}\")"
      ],
      "metadata": {
        "colab": {
          "base_uri": "https://localhost:8080/"
        },
        "id": "fHGnwlRcHdsb",
        "outputId": "73be7ce9-da41-464b-87ba-be017e8b37b6"
      },
      "execution_count": 56,
      "outputs": [
        {
          "output_type": "stream",
          "name": "stdout",
          "text": [
            "Average In-Degree: 161.69 \n",
            "Maximum In-Degree: 2345.880026428104 (City: Dallas/Fort Worth, TX)\n",
            "Minimum In-Degree: -158.56066009123734 (City: Seattle, WA, etc.)\n",
            "In-Degree Standard Deviation: 365.66\n"
          ]
        }
      ]
    },
    {
      "cell_type": "markdown",
      "source": [
        "Worst and Best Connections"
      ],
      "metadata": {
        "id": "UgBgTTR14Gov"
      }
    },
    {
      "cell_type": "code",
      "source": [
        "max(dict(G_directed.edges).items(), key=lambda x: x[1]['delay'])"
      ],
      "metadata": {
        "colab": {
          "base_uri": "https://localhost:8080/"
        },
        "id": "H9GyodIiFy52",
        "outputId": "81c7e11c-a040-44b2-87e8-a32215996fe5"
      },
      "execution_count": 57,
      "outputs": [
        {
          "output_type": "execute_result",
          "data": {
            "text/plain": [
              "(('Boston, MA', 'Valparaiso, FL'),\n",
              " {'year': 2023, 'delay': 1525.0, 'distance': 1187.0})"
            ]
          },
          "metadata": {},
          "execution_count": 57
        }
      ]
    },
    {
      "cell_type": "code",
      "source": [
        "min(dict(G_directed.edges).items(), key=lambda x: x[1]['delay'])"
      ],
      "metadata": {
        "colab": {
          "base_uri": "https://localhost:8080/"
        },
        "id": "l4zLt1IhGFo1",
        "outputId": "eb39c87e-2271-4241-faa8-3640a25c1439"
      },
      "execution_count": 58,
      "outputs": [
        {
          "output_type": "execute_result",
          "data": {
            "text/plain": [
              "(('Peoria, IL', 'Denver, CO'),\n",
              " {'year': 2023, 'delay': -36.0, 'distance': 793.0})"
            ]
          },
          "metadata": {},
          "execution_count": 58
        }
      ]
    },
    {
      "cell_type": "markdown",
      "source": [
        "### Degree Distriubtion Plots"
      ],
      "metadata": {
        "id": "jSjyeJWehQWe"
      }
    },
    {
      "cell_type": "code",
      "source": [
        "# Degree Count\n",
        "degree_count = list(nx.degree_histogram(G))\n",
        "\n",
        "# Degree Probabilities\n",
        "p_k = degree_count / np.sum(degree_count)\n",
        "\n",
        "\n",
        "# Random Network\n",
        "random_network = nx.erdos_renyi_graph(G.order(), nx.density(G))\n",
        "\n",
        "# Random Network Degree Count\n",
        "random_degree_count = list(nx.degree_histogram(random_network))\n",
        "\n",
        "# Random Network Degree Probabilities\n",
        "p_k_random = random_degree_count / np.sum(random_degree_count)"
      ],
      "metadata": {
        "id": "LnWlbfu5hWWM"
      },
      "execution_count": 59,
      "outputs": []
    },
    {
      "cell_type": "code",
      "source": [
        "custom_params = {\"axes.spines.right\": False, \"axes.spines.top\": False}\n",
        "sns.set_theme(style=\"whitegrid\", rc=custom_params)"
      ],
      "metadata": {
        "id": "Xwen_0lm_61m"
      },
      "execution_count": 60,
      "outputs": []
    },
    {
      "cell_type": "code",
      "source": [
        "fig, ax = plt.subplots(figsize=(20, 8), nrows=1, ncols=2)\n",
        "\n",
        "ax[0].scatter(x=range(len(p_k)), y=p_k, marker=\"o\", color=\"#175369\")\n",
        "ax[0].scatter(x=range(len(p_k_random)), y=p_k_random, marker=\"o\", color=\"#e81779\")\n",
        "ax[0].legend([\"US Flight Network\", \"Random Network\"])\n",
        "\n",
        "ax[0].set_title(\"k\")\n",
        "ax[0].set_xlabel(\"k\")\n",
        "ax[0].set_ylabel(\"p(k)\")\n",
        "ax[0].set_xscale(\"log\")\n",
        "ax[0].set_yscale(\"log\")\n",
        "\n",
        "\n",
        "ax[1].scatter(x=range(len(p_k)), y=np.cumsum(p_k), marker=\"o\", color=\"#175369\")\n",
        "ax[1].scatter(x=range(len(p_k_random)), y=np.cumsum(p_k_random), marker=\"o\", color=\"#e81779\")\n",
        "ax[1].legend([\"US Flight Network\", \"Random Network\"])\n",
        "\n",
        "ax[1].set_xlabel(\"k\")\n",
        "ax[1].set_ylabel(\"p(k)\")\n",
        "ax[1].set_xscale(\"log\")\n",
        "ax[1].set_yscale(\"log\")\n",
        "\n",
        "plt.show()"
      ],
      "metadata": {
        "colab": {
          "base_uri": "https://localhost:8080/",
          "height": 581
        },
        "id": "P8a5mWV1ilaI",
        "outputId": "9bc342e5-c497-4438-9058-3302a10a629d"
      },
      "execution_count": 61,
      "outputs": [
        {
          "output_type": "display_data",
          "data": {
            "text/plain": [
              "<Figure size 2000x800 with 2 Axes>"
            ],
            "image/png": "[encoded data removed]"
          },
          "metadata": {}
        }
      ]
    },
    {
      "cell_type": "markdown",
      "source": [
        "## Density"
      ],
      "metadata": {
        "id": "96EDj3Te-cdA"
      }
    },
    {
      "cell_type": "code",
      "source": [
        "density = nx.density(G)\n",
        "print(f\"Density: {density:.4f}\")"
      ],
      "metadata": {
        "colab": {
          "base_uri": "https://localhost:8080/"
        },
        "id": "dsGybKU0-dsU",
        "outputId": "303b0a93-8c87-4f0d-bd7c-61d46dbbb9c6"
      },
      "execution_count": 62,
      "outputs": [
        {
          "output_type": "stream",
          "name": "stdout",
          "text": [
            "Density: 0.0467\n"
          ]
        }
      ]
    },
    {
      "cell_type": "markdown",
      "source": [
        "## Diameter"
      ],
      "metadata": {
        "id": "jUjhEisCyESl"
      }
    },
    {
      "cell_type": "code",
      "source": [
        "diameter = nx.diameter(G)\n",
        "print(f\"Diameter: {diameter}\")"
      ],
      "metadata": {
        "id": "B1tlfuIvyJJv",
        "colab": {
          "base_uri": "https://localhost:8080/"
        },
        "outputId": "5cafbc33-8713-49e9-a1d7-9e8f5847f08f"
      },
      "execution_count": 63,
      "outputs": [
        {
          "output_type": "stream",
          "name": "stdout",
          "text": [
            "Diameter: 5\n"
          ]
        }
      ]
    },
    {
      "cell_type": "markdown",
      "source": [
        "## Connectivity"
      ],
      "metadata": {
        "id": "Z6vbMGQZ-5QL"
      }
    },
    {
      "cell_type": "code",
      "source": [
        "nx.is_weakly_connected(G_directed)"
      ],
      "metadata": {
        "colab": {
          "base_uri": "https://localhost:8080/"
        },
        "id": "WMY3lF_f-67a",
        "outputId": "3fe55ba5-7af5-4dda-a763-ad057ec3ea2e"
      },
      "execution_count": 64,
      "outputs": [
        {
          "output_type": "execute_result",
          "data": {
            "text/plain": [
              "True"
            ]
          },
          "metadata": {},
          "execution_count": 64
        }
      ]
    },
    {
      "cell_type": "code",
      "source": [
        "nx.is_strongly_connected(G_directed)"
      ],
      "metadata": {
        "colab": {
          "base_uri": "https://localhost:8080/"
        },
        "id": "bZwBRWbx-9Mv",
        "outputId": "153561e1-51da-4ecd-d229-24a9538dff27"
      },
      "execution_count": 65,
      "outputs": [
        {
          "output_type": "execute_result",
          "data": {
            "text/plain": [
              "True"
            ]
          },
          "metadata": {},
          "execution_count": 65
        }
      ]
    },
    {
      "cell_type": "markdown",
      "source": [
        "## Centrality"
      ],
      "metadata": {
        "id": "5_IX1oBr1ggC"
      }
    },
    {
      "cell_type": "code",
      "source": [
        "degree_centrality = sorted(nx.degree_centrality(G).items(),\n",
        "                           reverse=True,\n",
        "                           key=lambda x:x[1])\n",
        "\n",
        "for i in range(10):\n",
        "  print(f\"{degree_centrality[i][0]}: {degree_centrality[i][1]:.2f}\")"
      ],
      "metadata": {
        "colab": {
          "base_uri": "https://localhost:8080/"
        },
        "id": "jpX3AdHB9Nk3",
        "outputId": "9b1839d4-3d62-4d68-945b-dc4fcfa39e20"
      },
      "execution_count": 66,
      "outputs": [
        {
          "output_type": "stream",
          "name": "stdout",
          "text": [
            "Dallas/Fort Worth, TX: 0.53\n",
            "Denver, CO: 0.46\n",
            "Chicago, IL: 0.45\n",
            "Atlanta, GA: 0.43\n",
            "Phoenix, AZ: 0.37\n",
            "Las Vegas, NV: 0.35\n",
            "Charlotte, NC: 0.35\n",
            "Washington, DC: 0.30\n",
            "Houston, TX: 0.29\n",
            "New York, NY: 0.29\n"
          ]
        }
      ]
    },
    {
      "cell_type": "code",
      "source": [
        "eigenvector_centrality = sorted(nx.eigenvector_centrality(G).items(),\n",
        "                                reverse=True,\n",
        "                                key=lambda x:x[1])\n",
        "\n",
        "for i in range(10):\n",
        "  print(f\"{eigenvector_centrality[i][0]}: {eigenvector_centrality[i][1]:.2f}\")"
      ],
      "metadata": {
        "colab": {
          "base_uri": "https://localhost:8080/"
        },
        "id": "hkmenNj68Tpd",
        "outputId": "ee557423-ba2c-4467-c1f7-0075553dcca5"
      },
      "execution_count": 67,
      "outputs": [
        {
          "output_type": "stream",
          "name": "stdout",
          "text": [
            "Dallas/Fort Worth, TX: 0.20\n",
            "Chicago, IL: 0.19\n",
            "Atlanta, GA: 0.19\n",
            "Denver, CO: 0.19\n",
            "Charlotte, NC: 0.17\n",
            "Las Vegas, NV: 0.17\n",
            "Phoenix, AZ: 0.17\n",
            "Houston, TX: 0.17\n",
            "Washington, DC: 0.16\n",
            "New York, NY: 0.16\n"
          ]
        }
      ]
    },
    {
      "cell_type": "code",
      "source": [
        "closeness_centrality = sorted(nx.closeness_centrality(G).items(),\n",
        "                              reverse=True,\n",
        "                              key=lambda x:x[1])\n",
        "\n",
        "for i in range(10):\n",
        "  print(f\"{closeness_centrality[i][0]}: {closeness_centrality[i][1]:.2f}\")"
      ],
      "metadata": {
        "colab": {
          "base_uri": "https://localhost:8080/"
        },
        "id": "U3-MyzXj-cu4",
        "outputId": "061c5167-8da6-4fd8-e18a-df250101a2f8"
      },
      "execution_count": 68,
      "outputs": [
        {
          "output_type": "stream",
          "name": "stdout",
          "text": [
            "Dallas/Fort Worth, TX: 0.66\n",
            "Denver, CO: 0.64\n",
            "Chicago, IL: 0.64\n",
            "Atlanta, GA: 0.61\n",
            "Phoenix, AZ: 0.60\n",
            "Las Vegas, NV: 0.59\n",
            "Charlotte, NC: 0.58\n",
            "Minneapolis, MN: 0.58\n",
            "Washington, DC: 0.57\n",
            "Houston, TX: 0.57\n"
          ]
        }
      ]
    },
    {
      "cell_type": "code",
      "source": [
        "betweenness_centrality = sorted(nx.betweenness_centrality(G).items(),\n",
        "                                reverse=True,\n",
        "                                key=lambda x:x[1])\n",
        "\n",
        "for i in range(10):\n",
        "  print(f\"{betweenness_centrality[i][0]}: {betweenness_centrality[i][1]:.2f}\")"
      ],
      "metadata": {
        "colab": {
          "base_uri": "https://localhost:8080/"
        },
        "id": "X-5bdLZX-lmG",
        "outputId": "16da8ed2-abc7-45c2-c138-0b5f0ab9dcd6"
      },
      "execution_count": 69,
      "outputs": [
        {
          "output_type": "stream",
          "name": "stdout",
          "text": [
            "Dallas/Fort Worth, TX: 0.21\n",
            "Denver, CO: 0.17\n",
            "Chicago, IL: 0.13\n",
            "Atlanta, GA: 0.09\n",
            "Minneapolis, MN: 0.07\n",
            "Phoenix, AZ: 0.06\n",
            "Anchorage, AK: 0.05\n",
            "Detroit, MI: 0.05\n",
            "Las Vegas, NV: 0.05\n",
            "Charlotte, NC: 0.05\n"
          ]
        }
      ]
    },
    {
      "cell_type": "markdown",
      "source": [
        "### Correlation"
      ],
      "metadata": {
        "id": "edJTkuw7BWYW"
      }
    },
    {
      "cell_type": "code",
      "source": [
        "centralities = [list(nx.degree_centrality(G).values()),\n",
        "                list(nx.eigenvector_centrality(G).values()),\n",
        "                list(nx.closeness_centrality(G).values()),\n",
        "                list(nx.betweenness_centrality(G).values())]\n",
        "\n",
        "corr = np.corrcoef(centralities)"
      ],
      "metadata": {
        "id": "3-MsMzr2AmCZ"
      },
      "execution_count": 70,
      "outputs": []
    },
    {
      "cell_type": "code",
      "source": [
        "fig, ax = plt.subplots(figsize=(12, 10))\n",
        "\n",
        "sns.heatmap(data=corr,\n",
        "            annot=True,\n",
        "            cmap=\"rocket_r\")\n",
        "\n",
        "plt.xticks(ticks=[x+0.5 for x in range(4)],\n",
        "           labels=[\"Degree\", \"Eigenvector\", \"Closeness\", \"Betweenness\"],\n",
        "           rotation=0)\n",
        "plt.yticks(ticks=[x+0.5 for x in range(4)],\n",
        "           labels=[\"Degree\", \"Eigenvector\", \"Closeness\", \"Betweenness\"],\n",
        "           rotation=0)\n",
        "\n",
        "plt.show()"
      ],
      "metadata": {
        "colab": {
          "base_uri": "https://localhost:8080/",
          "height": 841
        },
        "id": "QfqqP_g8B3G7",
        "outputId": "67047ec3-1b91-47b2-b5ec-cad6fe985758"
      },
      "execution_count": 71,
      "outputs": [
        {
          "output_type": "display_data",
          "data": {
            "text/plain": [
              "<Figure size 1200x1000 with 2 Axes>"
            ],
            "image/png": "[encoded data removed]"
          },
          "metadata": {}
        }
      ]
    },
    {
      "cell_type": "markdown",
      "source": [
        "## Bridges"
      ],
      "metadata": {
        "id": "j4OBDEkFHoYS"
      }
    },
    {
      "cell_type": "code",
      "source": [
        "num_bridges = len(list(nx.bridges(G,root=None)))\n",
        "print(f\"The graph has {num_bridges} bridges\")\n",
        "perc_bridge = num_bridges/G.number_of_edges()\n",
        "print(f\"{(perc_bridge * 100):.2f}% of all edges are bridges\")"
      ],
      "metadata": {
        "colab": {
          "base_uri": "https://localhost:8080/"
        },
        "id": "PybPjdikHpus",
        "outputId": "d2196dd3-3822-497a-de72-c81179d1f3de"
      },
      "execution_count": 72,
      "outputs": [
        {
          "output_type": "stream",
          "name": "stdout",
          "text": [
            "The graph has 62 bridges\n",
            "2.40% of all edges are bridges\n"
          ]
        }
      ]
    },
    {
      "cell_type": "markdown",
      "source": [
        "## Community detection"
      ],
      "metadata": {
        "id": "XqmPt_bqMJsW"
      }
    },
    {
      "cell_type": "code",
      "source": [
        "custom_params = {\"axes.spines.top\": False}\n",
        "sns.set_theme(style=\"white\", rc=custom_params)"
      ],
      "metadata": {
        "id": "KhdWp5TqLApT"
      },
      "execution_count": 73,
      "outputs": []
    },
    {
      "cell_type": "code",
      "source": [
        "communities = nx.community.louvain_communities(G, seed=42)\n",
        "community_names = [f\"Community {i + 1}\" for i, _ in enumerate(communities)]\n",
        "community_sizes = [len(c) for c in communities]\n",
        "community_degrees = [np.mean(list(dict(G.degree(c)).values())) for c in communities]"
      ],
      "metadata": {
        "id": "-j8GO1VpNXsr"
      },
      "execution_count": 74,
      "outputs": []
    },
    {
      "cell_type": "code",
      "source": [
        "fig, ax = plt.subplots(figsize=(13, 10))\n",
        "\n",
        "ax.set_xticks(ticks=range(1, 6),labels=community_names)\n",
        "\n",
        "ax2 = ax.twinx()\n",
        "\n",
        "ax.bar(x=[0.8, 1.8, 2.8, 3.8, 4.8],\n",
        "       height=community_sizes,\n",
        "       color=\"#034b63\",\n",
        "       width=0.4)\n",
        "\n",
        "ax.set_ylabel(\"Community Size\")\n",
        "\n",
        "ax2.bar(x=[1.2, 2.2, 3.2, 4.2, 5.2],\n",
        "        height=community_degrees,\n",
        "        color=\"#04877e\",\n",
        "        width=0.4)\n",
        "\n",
        "ax2.set_ylabel(\"Average Degree\")\n",
        "\n",
        "label_1 = mlines.Line2D([], [],\n",
        "                        color=\"#034b63\",\n",
        "                        marker=\"s\",\n",
        "                        ls=\"\",\n",
        "                        label=\"Community Size\")\n",
        "\n",
        "label_2 = mlines.Line2D([], [],\n",
        "                        color=\"#04877e\",\n",
        "                        marker=\"s\",\n",
        "                        ls=\"\",\n",
        "                        label=\"Average Degree\")\n",
        "\n",
        "ax.legend(handles=[label_1, label_2])\n",
        "\n",
        "plt.show()"
      ],
      "metadata": {
        "colab": {
          "base_uri": "https://localhost:8080/",
          "height": 835
        },
        "id": "MziFHc39q1GB",
        "outputId": "567de479-1728-46e7-b59b-035c2ef385b3"
      },
      "execution_count": 75,
      "outputs": [
        {
          "output_type": "display_data",
          "data": {
            "text/plain": [
              "<Figure size 1300x1000 with 2 Axes>"
            ],
            "image/png": "[encoded data removed]"
          },
          "metadata": {}
        }
      ]
    },
    {
      "cell_type": "code",
      "source": [
        "community_top_degrees = list()\n",
        "\n",
        "for c in communities:\n",
        "  c_degrees = list(sorted(dict(G.degree(c)).items(),\n",
        "                          key=lambda x:x[1],\n",
        "                          reverse=True))\n",
        "\n",
        "\n",
        "  community_top_degrees.append(c_degrees[:3])\n",
        "\n",
        "for i in range(len(communities)):\n",
        "\n",
        "  print(f\"Average degree in community {i+1}: \"\n",
        "        f\"{community_degrees[i]:.2f}\")\n",
        "\n",
        "  print(f\"The airports with the most connections in community {i+1} are:\")\n",
        "\n",
        "  for airport in community_top_degrees[i]:\n",
        "    print(f\"{airport[0]}: {airport[1]} connections\")\n",
        "\n",
        "  print(\"\")"
      ],
      "metadata": {
        "colab": {
          "base_uri": "https://localhost:8080/"
        },
        "id": "x5F1xCiPfIJn",
        "outputId": "43206ab4-c778-483b-e6b1-ed7ba21e1ea8"
      },
      "execution_count": 76,
      "outputs": [
        {
          "output_type": "stream",
          "name": "stdout",
          "text": [
            "Average degree in community 1: 8.57\n",
            "The airports with the most connections in community 1 are:\n",
            "Dallas/Fort Worth, TX: 175 connections\n",
            "Atlanta, GA: 143 connections\n",
            "Baton Rouge, LA: 5 connections\n",
            "\n",
            "Average degree in community 2: 10.52\n",
            "The airports with the most connections in community 2 are:\n",
            "Chicago, IL: 150 connections\n",
            "Minneapolis, MN: 95 connections\n",
            "Sanford, FL: 63 connections\n",
            "\n",
            "Average degree in community 3: 26.56\n",
            "The airports with the most connections in community 3 are:\n",
            "Charlotte, NC: 115 connections\n",
            "Washington, DC: 98 connections\n",
            "New York, NY: 96 connections\n",
            "\n",
            "Average degree in community 4: 16.60\n",
            "The airports with the most connections in community 4 are:\n",
            "Denver, CO: 154 connections\n",
            "Phoenix, AZ: 122 connections\n",
            "Las Vegas, NV: 116 connections\n",
            "\n",
            "Average degree in community 5: 3.31\n",
            "The airports with the most connections in community 5 are:\n",
            "Anchorage, AK: 22 connections\n",
            "Juneau, AK: 6 connections\n",
            "Ketchikan, AK: 4 connections\n",
            "\n"
          ]
        }
      ]
    },
    {
      "cell_type": "markdown",
      "source": [
        "## Assortativity"
      ],
      "metadata": {
        "id": "JjCD5fRVMv7F"
      }
    },
    {
      "cell_type": "code",
      "source": [
        "assortativity = nx.degree_assortativity_coefficient(G, weight=None)\n",
        "print(f\"The graph has an assortativity value of {assortativity:.2f}\")"
      ],
      "metadata": {
        "colab": {
          "base_uri": "https://localhost:8080/"
        },
        "id": "l9GwjN2SMMnB",
        "outputId": "5ceb9d66-0566-4e7b-cd26-3d4bc2c662c8"
      },
      "execution_count": 77,
      "outputs": [
        {
          "output_type": "stream",
          "name": "stdout",
          "text": [
            "The graph has an assortativity value of -0.50\n"
          ]
        }
      ]
    },
    {
      "cell_type": "markdown",
      "source": [
        "## Transitivity"
      ],
      "metadata": {
        "id": "MmoU4qiUMx-I"
      }
    },
    {
      "cell_type": "code",
      "source": [
        "nx.transitivity(G)"
      ],
      "metadata": {
        "colab": {
          "base_uri": "https://localhost:8080/"
        },
        "id": "4KEVcF_pMz2J",
        "outputId": "d8987950-ca47-46c6-e4d1-5c905698eca4"
      },
      "execution_count": 78,
      "outputs": [
        {
          "output_type": "execute_result",
          "data": {
            "text/plain": [
              "0.3188104098743923"
            ]
          },
          "metadata": {},
          "execution_count": 78
        }
      ]
    },
    {
      "cell_type": "code",
      "source": [
        "nx.average_clustering(G)"
      ],
      "metadata": {
        "colab": {
          "base_uri": "https://localhost:8080/"
        },
        "id": "qY3SIAyLM_Nc",
        "outputId": "314ea1b5-8040-4c9c-d1a6-8ff2df482cf4"
      },
      "execution_count": 79,
      "outputs": [
        {
          "output_type": "execute_result",
          "data": {
            "text/plain": [
              "0.5843615191578213"
            ]
          },
          "metadata": {},
          "execution_count": 79
        }
      ]
    },
    {
      "cell_type": "markdown",
      "source": [
        "## Machine Learning"
      ],
      "metadata": {
        "id": "yDYFKCqNGS8H"
      }
    },
    {
      "cell_type": "code",
      "source": [
        "df_2008, routes_2008 = load_dataset(\"/content/drive/MyDrive/NetworkScience/flight_data/flights_2008.csv\")\n",
        "df_2023, _ = load_dataset(\"/content/drive/MyDrive/NetworkScience/flight_data/flights_2023.csv\")\n",
        "\n",
        "G_2008 = create_graph(df_2008)\n",
        "G_2023 = create_graph(df_2023, excluded_routes=routes_2008)\n",
        "\n",
        "print(G_2008)\n",
        "print(G_2023)\n",
        "\n",
        "G_train = G_2008\n",
        "G_test = G_2023\n",
        "\n",
        "X, y = create_link_prediction_data(G_train, G_test)\n",
        "X_train, X_test, y_train, y_test = train_test_split(X, y, test_size=0.2, random_state=42)"
      ],
      "metadata": {
        "id": "hLNoLQzE6_Gl",
        "colab": {
          "base_uri": "https://localhost:8080/"
        },
        "outputId": "7aa829c1-86df-4650-8c41-5d8e9249a236"
      },
      "execution_count": 80,
      "outputs": [
        {
          "output_type": "stream",
          "name": "stdout",
          "text": [
            "Graph with 283 nodes and 2241 edges\n",
            "Graph with 280 nodes and 969 edges\n",
            "Number of newly formed links: 698\n"
          ]
        }
      ]
    },
    {
      "cell_type": "markdown",
      "source": [
        "### Gradient Boosting\n"
      ],
      "metadata": {
        "id": "7WdlGLTSVrYm"
      }
    },
    {
      "cell_type": "code",
      "source": [
        "ct = ColumnTransformer([\n",
        "    (\"StandardScaler\", StandardScaler(),\n",
        "     [\"jaccard\", \"rai\",\"aai\",\"pref\", \"cnc\"])])\n",
        "\n",
        "gboost_predictor = Pipeline([\n",
        "    (\"Preproccesser\", ct),\n",
        "    (\"Classifier\", GradientBoostingClassifier())])\n",
        "\n",
        "gboost_predictor.fit(X_train, y_train)\n",
        "\n",
        "y_predicted = gboost_predictor.predict(X_test)\n",
        "\n",
        "print(\"Gradient Boosting Results\")\n",
        "print(f\"Accuracy: {accuracy_score(y_test, y_predicted):.2f}\")\n",
        "print(f\"Precision: {precision_score(y_test, y_predicted):.2f}\")\n",
        "print(f\"Recall: {recall_score(y_test, y_predicted):.2f}\")\n",
        "print(f\"F1: {f1_score(y_test, y_predicted):.2f}\")\n",
        "print(f\"Confusion Matrix: \\n{confusion_matrix(y_test, y_predicted)}\\n\")"
      ],
      "metadata": {
        "id": "3SLK9NE8zQPW",
        "colab": {
          "base_uri": "https://localhost:8080/"
        },
        "outputId": "def01883-b0b0-4b8b-b9be-7cfe43548fa7"
      },
      "execution_count": 81,
      "outputs": [
        {
          "output_type": "stream",
          "name": "stdout",
          "text": [
            "Gradient Boosting Results\n",
            "Accuracy: 0.86\n",
            "Precision: 0.85\n",
            "Recall: 0.90\n",
            "F1: 0.87\n",
            "Confusion Matrix: \n",
            "[[108  24]\n",
            " [ 15 133]]\n",
            "\n"
          ]
        }
      ]
    },
    {
      "cell_type": "code",
      "source": [
        "gb_metrics = [accuracy_score(y_test, y_predicted), precision_score(y_test, y_predicted), recall_score(y_test, y_predicted)]"
      ],
      "metadata": {
        "id": "xU8wzgv-XYCe"
      },
      "execution_count": 82,
      "outputs": []
    },
    {
      "cell_type": "markdown",
      "source": [
        "### Logistic Regression"
      ],
      "metadata": {
        "id": "VMT6s33jW3a-"
      }
    },
    {
      "cell_type": "code",
      "source": [
        "ct = ColumnTransformer([\n",
        "    (\"StandardScaler\", StandardScaler(),\n",
        "     [\"jaccard\", \"rai\",\"aai\",\"pref\", \"cnc\"])])\n",
        "\n",
        "logistic_predictor = Pipeline([\n",
        "    (\"Preproccesser\", ct),\n",
        "    (\"Classifier\", LogisticRegression())])\n",
        "\n",
        "logistic_predictor.fit(X_train, y_train)\n",
        "\n",
        "y_predicted = logistic_predictor.predict(X_test)\n",
        "\n",
        "print(\"Logistic Regression Results\")\n",
        "print(f\"Accuracy: {accuracy_score(y_test, y_predicted):.2f}\")\n",
        "print(f\"Precision: {precision_score(y_test, y_predicted):.2f}\")\n",
        "print(f\"Recall: {recall_score(y_test, y_predicted):.2f}\")\n",
        "print(f\"F1: {f1_score(y_test, y_predicted):.2f}\")\n",
        "print(f\"Confusion Matrix: \\n{confusion_matrix(y_test, y_predicted)}\\n\")"
      ],
      "metadata": {
        "colab": {
          "base_uri": "https://localhost:8080/"
        },
        "id": "uwVRp2rC0AYU",
        "outputId": "9338bfab-3959-48a9-9920-8475586e1ada"
      },
      "execution_count": 83,
      "outputs": [
        {
          "output_type": "stream",
          "name": "stdout",
          "text": [
            "Logistic Regression Results\n",
            "Accuracy: 0.84\n",
            "Precision: 0.86\n",
            "Recall: 0.82\n",
            "F1: 0.84\n",
            "Confusion Matrix: \n",
            "[[113  19]\n",
            " [ 27 121]]\n",
            "\n"
          ]
        }
      ]
    },
    {
      "cell_type": "code",
      "source": [
        "lr_metrics = [accuracy_score(y_test, y_predicted), precision_score(y_test, y_predicted), recall_score(y_test, y_predicted)]"
      ],
      "metadata": {
        "id": "FpLYkhCmXqks"
      },
      "execution_count": 84,
      "outputs": []
    },
    {
      "cell_type": "markdown",
      "source": [
        "Metrics Plot"
      ],
      "metadata": {
        "id": "0YlAnDeG4fkO"
      }
    },
    {
      "cell_type": "code",
      "source": [
        "metrics = pd.DataFrame([gb_metrics, lr_metrics])\n",
        "metrics.rename(columns={0:\"Accuracy\", 1:\"Precision\", 2:\"Recall\"}, inplace=True)\n",
        "metrics[\"Model\"] = [\"Gradient Boost\", \"Logistic Regression\"]\n",
        "\n",
        "custom_params = {\"axes.spines.right\": False, \"axes.spines.top\": False}\n",
        "sns.set_theme(style=\"whitegrid\", rc=custom_params)\n",
        "\n",
        "models_metrics = (\"Accuracy\", \"Precision\", \"Recall\")\n",
        "models_performance = {\n",
        "    \"Gradient Boosting\": metrics.iloc[0, 0:3] * 100,\n",
        "    \"Logistic Regression\": metrics.iloc[1, 0:3] * 100,\n",
        "}\n",
        "\n",
        "x = np.arange(len(models_metrics))  # the label locations\n",
        "width = 0.25  # the width of the bars\n",
        "multiplier = 0\n",
        "\n",
        "fig, ax = plt.subplots(figsize=(13,10))\n",
        "\n",
        "for attribute, measurement in models_performance.items():\n",
        "    offset = width * multiplier\n",
        "    if attribute == \"Gradient Boosting\":\n",
        "      rects = ax.bar(x + offset, measurement, width, label=attribute, color=\"#034b63\")\n",
        "    else:\n",
        "      rects = ax.bar(x + offset, measurement, width, label=attribute, color=\"#04877e\")\n",
        "\n",
        "    ax.bar_label(rects, padding=3)\n",
        "    multiplier += 1\n",
        "\n",
        "# Add some text for labels, title and custom x-axis tick labels, etc.\n",
        "ax.set_ylabel(\"Performance (%)\")\n",
        "ax.set_xlabel(\"Metric\")\n",
        "ax.set_xticks(x + width, models_metrics)\n",
        "ax.legend(loc='upper left', ncols=3)\n",
        "\n",
        "ax.set_ylim(70, 90)\n",
        "\n",
        "plt.show()"
      ],
      "metadata": {
        "colab": {
          "base_uri": "https://localhost:8080/",
          "height": 875
        },
        "id": "noFXuek8ZsVS",
        "outputId": "a05c6040-d328-48e4-b98e-1c5115866b06"
      },
      "execution_count": 85,
      "outputs": [
        {
          "output_type": "display_data",
          "data": {
            "text/plain": [
              "<Figure size 1300x1000 with 1 Axes>"
            ],
            "image/png": "[encoded data removed]"
          },
          "metadata": {}
        }
      ]
    },
    {
      "cell_type": "markdown",
      "source": [
        "### Forecast: Possible Flight Connections in the Future"
      ],
      "metadata": {
        "id": "MnnpabGL4tYZ"
      }
    },
    {
      "cell_type": "code",
      "source": [
        "edge_list = np.array([{u,v} for u,v in G.edges()])\n",
        "\n",
        "negative_datapoints = []\n",
        "nodes_list = list(G.nodes())\n",
        "count = 0\n",
        "for count in range(1000):\n",
        "  u, v = np.random.choice(nodes_list, size=2, replace=False)\n",
        "  if not G.has_edge(u, v):\n",
        "      negative_datapoints.append((u, v))\n",
        "\n",
        "df_link_prediction =  pd.DataFrame()\n",
        "\n",
        "# Feature engineering\n",
        "df_link_prediction[\"jaccard\"] = [j for _, _, j in nx.jaccard_coefficient(G, negative_datapoints)]\n",
        "df_link_prediction[\"rai\"] = [j for _, _, j in nx.resource_allocation_index(G, negative_datapoints)]\n",
        "df_link_prediction[\"aai\"] = [j for _, _, j in nx.adamic_adar_index(G, negative_datapoints)]\n",
        "df_link_prediction[\"pref\"] = [j for _, _, j in nx.preferential_attachment(G, negative_datapoints)]\n",
        "df_link_prediction[\"cnc\"] = [j for _, _, j in nx.common_neighbor_centrality(G, negative_datapoints)]\n",
        "df_link_prediction[\"connection\"] = negative_datapoints\n"
      ],
      "metadata": {
        "id": "RCYgE-m-iWB0"
      },
      "execution_count": 86,
      "outputs": []
    },
    {
      "cell_type": "code",
      "source": [
        "X_forecast = df_link_prediction[[\"jaccard\", \"rai\", \"aai\", \"pref\", \"cnc\"]]\n",
        "y_forecast = gboost_predictor.predict_proba(X_forecast)\n",
        "top_probs_ind = np.argsort(y_forecast[:, 1])[-5:]"
      ],
      "metadata": {
        "id": "yESyKczSjcYI"
      },
      "execution_count": 87,
      "outputs": []
    },
    {
      "cell_type": "code",
      "source": [
        "y_forecast[top_probs_ind]"
      ],
      "metadata": {
        "colab": {
          "base_uri": "https://localhost:8080/"
        },
        "id": "vj8jdi1XNqsB",
        "outputId": "45bb3455-75cd-4390-964d-3be5f8cf5298"
      },
      "execution_count": 88,
      "outputs": [
        {
          "output_type": "execute_result",
          "data": {
            "text/plain": [
              "array([[0.05606499, 0.94393501],\n",
              "       [0.05257457, 0.94742543],\n",
              "       [0.04042964, 0.95957036],\n",
              "       [0.03657282, 0.96342718],\n",
              "       [0.02797418, 0.97202582]])"
            ]
          },
          "metadata": {},
          "execution_count": 88
        }
      ]
    },
    {
      "cell_type": "code",
      "source": [
        "df_link_prediction[\"connection\"][top_probs_ind]"
      ],
      "metadata": {
        "colab": {
          "base_uri": "https://localhost:8080/"
        },
        "id": "bJlA96Poj3sY",
        "outputId": "82ee292a-fc08-46bb-f366-21876f3fa1e1"
      },
      "execution_count": 89,
      "outputs": [
        {
          "output_type": "execute_result",
          "data": {
            "text/plain": [
              "727      (Punta Gorda, FL, Myrtle Beach, SC)\n",
              "330     (Sacramento, CA, Raleigh/Durham, NC)\n",
              "691    (Punta Gorda, FL, St. Petersburg, FL)\n",
              "936             (Burbank, CA, San Diego, CA)\n",
              "278         (Cincinnati, OH, Des Moines, IA)\n",
              "Name: connection, dtype: object"
            ]
          },
          "metadata": {},
          "execution_count": 89
        }
      ]
    }
  ]
}